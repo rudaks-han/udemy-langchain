{
 "cells": [
  {
   "cell_type": "code",
   "execution_count": 22,
   "metadata": {
    "ExecuteTime": {
     "end_time": "2024-05-15T23:08:11.747335Z",
     "start_time": "2024-05-15T23:08:11.700767Z"
    }
   },
   "outputs": [],
   "source": [
    "from langchain.embeddings import OpenAIEmbeddings\n",
    "from dotenv import load_dotenv\n",
    "\n",
    "load_dotenv()\n",
    "\n",
    "embeddings = OpenAIEmbeddings()"
   ]
  },
  {
   "cell_type": "code",
   "execution_count": 23,
   "metadata": {
    "ExecuteTime": {
     "end_time": "2024-05-15T23:08:11.753044Z",
     "start_time": "2024-05-15T23:08:11.748223Z"
    }
   },
   "outputs": [],
   "source": [
    "import numpy as np\n",
    "\n",
    "def calculate_l2(v1, v2):\n",
    "    return np.linalg.norm(v1 - v2) ** 2"
   ]
  },
  {
   "cell_type": "code",
   "execution_count": 24,
   "metadata": {
    "ExecuteTime": {
     "end_time": "2024-05-15T23:08:11.763338Z",
     "start_time": "2024-05-15T23:08:11.751886Z"
    }
   },
   "outputs": [
    {
     "ename": "ModuleNotFoundError",
     "evalue": "No module named 'matplotlib'",
     "output_type": "error",
     "traceback": [
      "\u001B[0;31m---------------------------------------------------------------------------\u001B[0m",
      "\u001B[0;31mModuleNotFoundError\u001B[0m                       Traceback (most recent call last)",
      "Cell \u001B[0;32mIn[24], line 1\u001B[0m\n\u001B[0;32m----> 1\u001B[0m \u001B[38;5;28;01mimport\u001B[39;00m \u001B[38;5;21;01mmatplotlib\u001B[39;00m\u001B[38;5;21;01m.\u001B[39;00m\u001B[38;5;21;01mpyplot\u001B[39;00m \u001B[38;5;28;01mas\u001B[39;00m \u001B[38;5;21;01mplt\u001B[39;00m\n\u001B[1;32m      2\u001B[0m \u001B[38;5;28;01mimport\u001B[39;00m \u001B[38;5;21;01mtextwrap\u001B[39;00m\n\u001B[1;32m      4\u001B[0m \u001B[38;5;28;01mdef\u001B[39;00m \u001B[38;5;21mwrap_labels\u001B[39m(labels, width):\n",
      "\u001B[0;31mModuleNotFoundError\u001B[0m: No module named 'matplotlib'"
     ]
    }
   ],
   "source": [
    "import matplotlib.pyplot as plt\n",
    "import textwrap\n",
    "\n",
    "def wrap_labels(labels, width):\n",
    "    return [ '\\n'.join(textwrap.wrap(label, width)) for label in labels ]\n",
    "\n",
    "def plot(data, words):\n",
    "    fig, ax = plt.subplots()\n",
    "    ax.imshow(data, cmap=\"Blues\")\n",
    "\n",
    "    labels = wrap_labels(words, 30)\n",
    "    ax.set_xticks(np.arange(len(words)), labels=labels)\n",
    "    ax.set_yticks(np.arange(len(words)), labels=labels)\n",
    "\n",
    "    ax.xaxis.tick_top()\n",
    "    ax.xaxis.set_label_position('top')\n",
    "\n",
    "    plt.setp(ax.get_xticklabels(), rotation=45, ha=\"left\",\n",
    "            rotation_mode=\"anchor\")\n",
    "\n",
    "    for i in range(len(words)):\n",
    "        for j in range(len(words)):\n",
    "            text = ax.text(j, i, round(data[i, j], 2),\n",
    "                        ha=\"center\", va=\"center\")\n",
    "\n",
    "    fig.tight_layout()\n",
    "    plt.show()"
   ]
  },
  {
   "cell_type": "code",
   "execution_count": null,
   "metadata": {
    "ExecuteTime": {
     "start_time": "2024-05-15T23:08:11.762173Z"
    }
   },
   "outputs": [],
   "source": [
    "words = [\n",
    "    \"The happy child jumped bravely from rock to rock\",\n",
    "    \"The child was not timid and had a good time jumping from rock to rock\",\n",
    "    \"Although filled with great fear, the child jumped from rock to rock\",\n",
    "    # \"아버지가 방에 들어가신다\",\n",
    "    # \"나는 방에 누워있다\"\n",
    "]\n",
    "\n",
    "embs = [\n",
    "    np.array(embeddings.embed_query(word)) for word in words\n",
    "]\n",
    "\n",
    "data = np.array([\n",
    "    [calculate_l2(e1,e2) for e1 in embs] for e2 in embs\n",
    "])\n",
    "\n",
    "plot(data, words)"
   ]
  },
  {
   "cell_type": "code",
   "execution_count": null,
   "outputs": [],
   "source": [],
   "metadata": {
    "collapsed": false,
    "ExecuteTime": {
     "end_time": "2024-05-15T23:08:11.763796Z",
     "start_time": "2024-05-15T23:08:11.763681Z"
    }
   }
  },
  {
   "cell_type": "code",
   "execution_count": null,
   "outputs": [],
   "source": [],
   "metadata": {
    "collapsed": false,
    "ExecuteTime": {
     "start_time": "2024-05-15T23:08:11.764424Z"
    }
   }
  }
 ],
 "metadata": {
  "kernelspec": {
   "display_name": "Python 3",
   "language": "python",
   "name": "python3"
  },
  "language_info": {
   "codemirror_mode": {
    "name": "ipython",
    "version": 3
   },
   "file_extension": ".py",
   "mimetype": "text/x-python",
   "name": "python",
   "nbconvert_exporter": "python",
   "pygments_lexer": "ipython3",
   "version": "3.11.4"
  },
  "orig_nbformat": 4
 },
 "nbformat": 4,
 "nbformat_minor": 2
}
